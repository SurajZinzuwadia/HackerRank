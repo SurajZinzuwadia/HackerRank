{
 "cells": [
  {
   "cell_type": "code",
   "execution_count": 17,
   "metadata": {},
   "outputs": [
    {
     "name": "stdout",
     "output_type": "stream",
     "text": [
      "3\n",
      "----c----\n",
      "--c-b-c--\n",
      "c-b-a-b-c\n",
      "--c-b-c--\n",
      "----c----\n"
     ]
    }
   ],
   "source": [
    "import string\n",
    "N = int(input())\n",
    "mid = N - 1\n",
    "for i in range(N - 1, 0, -1):\n",
    "    row = ['-'] * (2 * N - 1)\n",
    "    for j in range(N - i):\n",
    "        row[mid - j] = row[mid + j] = string.ascii_lowercase[j + i]\n",
    "    print( '-'.join(row))\n",
    "for i in range(0, N):\n",
    "    row = ['-'] * (2 * N - 1)\n",
    "    for j in range(0, N - i):\n",
    "        row[mid - j] = row[mid + j] = string.ascii_lowercase[j + i]\n",
    "    print ('-'.join(row))"
   ]
  },
  {
   "cell_type": "code",
   "execution_count": null,
   "metadata": {},
   "outputs": [],
   "source": []
  }
 ],
 "metadata": {
  "kernelspec": {
   "display_name": "Python 3",
   "language": "python",
   "name": "python3"
  },
  "language_info": {
   "codemirror_mode": {
    "name": "ipython",
    "version": 3
   },
   "file_extension": ".py",
   "mimetype": "text/x-python",
   "name": "python",
   "nbconvert_exporter": "python",
   "pygments_lexer": "ipython3",
   "version": "3.7.3"
  }
 },
 "nbformat": 4,
 "nbformat_minor": 2
}
