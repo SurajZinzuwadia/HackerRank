{
 "cells": [
  {
   "cell_type": "code",
   "execution_count": 12,
   "metadata": {},
   "outputs": [
    {
     "name": "stdout",
     "output_type": "stream",
     "text": [
      "AABCAAADA\n",
      "3\n",
      "['AAB', 'CAA', 'ADA']\n",
      "AB\n",
      "CA\n",
      "AD\n"
     ]
    }
   ],
   "source": [
    "from collections import OrderedDict\n",
    "def removeDupWithoutOrder(string):\n",
    "    return \"\".join(OrderedDict.fromkeys(string)) \n",
    "def merge_the_tools(string, k):\n",
    "    # your code goes here\n",
    "    n= len(string)\n",
    "    temp = int(n/k)\n",
    "    mylist = [string[i:i+3] for i in range(0, len(string), 3)] \n",
    "    for i in range(len(mylist)):\n",
    "        print(removeDupWithoutOrder(mylist[i]))\n",
    "\n",
    "if __name__ == '__main__':\n",
    "    string, k = input(), int(input())\n",
    "    merge_the_tools(string, k)"
   ]
  },
  {
   "cell_type": "code",
   "execution_count": 14,
   "metadata": {},
   "outputs": [
    {
     "name": "stdout",
     "output_type": "stream",
     "text": [
      "AABCAAADA\n",
      "3\n",
      "AAB\n",
      "AB\n",
      "CAA\n",
      "CA\n",
      "ADA\n",
      "AD\n"
     ]
    }
   ],
   "source": [
    "def merge_the_tools(string, k):\n",
    "    # your code goes here\n",
    "    splitNum = len(string)/k;\n",
    "    for i in range(0, len(string), k):\n",
    "        str = string[i:i+k];\n",
    "        print(str)\n",
    "        sub = ''\n",
    "        for s in str:\n",
    "            if s not in sub:\n",
    "                sub += s;\n",
    "        print(sub);\n",
    "\n",
    "if __name__ == '__main__':\n",
    "    string, k = input(), int(input())\n",
    "    merge_the_tools(string, k)"
   ]
  },
  {
   "cell_type": "code",
   "execution_count": null,
   "metadata": {},
   "outputs": [],
   "source": []
  }
 ],
 "metadata": {
  "kernelspec": {
   "display_name": "Python 3",
   "language": "python",
   "name": "python3"
  },
  "language_info": {
   "codemirror_mode": {
    "name": "ipython",
    "version": 3
   },
   "file_extension": ".py",
   "mimetype": "text/x-python",
   "name": "python",
   "nbconvert_exporter": "python",
   "pygments_lexer": "ipython3",
   "version": "3.7.3"
  }
 },
 "nbformat": 4,
 "nbformat_minor": 2
}
